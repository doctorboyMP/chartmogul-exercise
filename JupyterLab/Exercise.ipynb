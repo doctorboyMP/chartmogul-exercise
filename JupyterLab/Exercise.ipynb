{
 "cells": [
  {
   "cell_type": "code",
   "execution_count": 1,
   "id": "47df36a0-821c-4a2c-beb4-a46798816e4d",
   "metadata": {
    "tags": []
   },
   "outputs": [],
   "source": [
    "import chartmogul"
   ]
  },
  {
   "cell_type": "code",
   "execution_count": 2,
   "id": "e2a02cea-da6e-4257-a353-201d26982fa3",
   "metadata": {
    "tags": []
   },
   "outputs": [],
   "source": [
    "# Set up your ChartMogul API key\n",
    "config = chartmogul.Config('YOUR-API-KEY-HERE')"
   ]
  },
  {
   "cell_type": "code",
   "execution_count": 3,
   "id": "242313cd-6af3-44b7-9ea0-ea09656ba51d",
   "metadata": {
    "tags": []
   },
   "outputs": [
    {
     "data": {
      "text/plain": [
       "<Ping{data='pong!'}>"
      ]
     },
     "execution_count": 3,
     "metadata": {},
     "output_type": "execute_result"
    }
   ],
   "source": [
    "# Just to test if everything is working properly. Followed the instructions provided in https://github.com/chartmogul/chartmogul-python\n",
    "# We should get a \"Pong\". :)\n",
    "chartmogul.Ping.ping(config).get()"
   ]
  },
  {
   "cell_type": "code",
   "execution_count": 4,
   "id": "7b7d809a-cfb2-495f-b206-bec3702483a5",
   "metadata": {
    "tags": []
   },
   "outputs": [],
   "source": [
    "# Set the date range for which you want to retrieve the MRR data. Two ranges will be setup, one for Q1 and another until April.\n",
    "start_date = \"2019-01-01\"\n",
    "end_date = \"2019-04-30\"\n",
    "end_q1_date = \"2019-03-31\""
   ]
  },
  {
   "cell_type": "code",
   "execution_count": 5,
   "id": "5b95682d-771f-4fb3-9b96-1a1b583ca474",
   "metadata": {},
   "outputs": [],
   "source": [
    "# Retrieve the MRR data using ChartMogul's Metrics API. More info is provided in https://dev.chartmogul.com/reference/retrieve-mrr\n",
    "mrr = chartmogul.Metrics.mrr(\n",
    "    config=config,\n",
    "    start_date=start_date,\n",
    "    end_date=end_date,\n",
    "    interval=\"month\"\n",
    ").get()"
   ]
  },
  {
   "cell_type": "code",
   "execution_count": 6,
   "id": "91caae5b-2fd2-4917-9ea2-806c7563322d",
   "metadata": {
    "tags": []
   },
   "outputs": [],
   "source": [
    "# Retrieve the MRR data using ChartMogul's Metrics API. More info is provided in https://dev.chartmogul.com/reference/retrieve-mrr\n",
    "mrrQ1 = chartmogul.Metrics.mrr(\n",
    "    config=config,\n",
    "    start_date=start_date,\n",
    "    end_date=end_q1_date,\n",
    "    interval=\"month\"\n",
    ").get()"
   ]
  },
  {
   "cell_type": "code",
   "execution_count": 7,
   "id": "096370f9-ffb6-4161-bdc8-2f4b56462e69",
   "metadata": {
    "tags": []
   },
   "outputs": [],
   "source": [
    "# Calculate the total MRR for Q1 2019. The result is divided by 100 because values are in cents.\n",
    "total_mrr = sum(entry.mrr for entry in mrrQ1.entries) / 100"
   ]
  },
  {
   "cell_type": "code",
   "execution_count": 8,
   "id": "1fda33ae-08ba-4dfc-979b-7a1b6c35a2f8",
   "metadata": {
    "tags": []
   },
   "outputs": [
    {
     "name": "stdout",
     "output_type": "stream",
     "text": [
      "Total MRR for Q1 2019: $119.77\n",
      "\n"
     ]
    }
   ],
   "source": [
    "# Print the total MRR for Q1 2019 (using f-strings for better readability)\n",
    "print(f'Total MRR for Q1 2019: ${total_mrr}\\n')"
   ]
  },
  {
   "cell_type": "code",
   "execution_count": 9,
   "id": "8e3140b1-8374-4e45-8e4a-80aca1cacf4a",
   "metadata": {
    "tags": []
   },
   "outputs": [
    {
     "name": "stdout",
     "output_type": "stream",
     "text": [
      "January: $38.41\n",
      "February: $40.63\n",
      "March: $40.73\n",
      "April: $33.8\n"
     ]
    }
   ],
   "source": [
    "# Extracting and printing the MRR value for each month. The result is divided by 100 because values are in cents.\n",
    "# Using strftime function to extract the month name from the datetime object.\n",
    "for entry in mrr.entries:\n",
    "    month_mrr = entry.mrr / 100\n",
    "    month_name = entry.date.strftime(\"%B\")\n",
    "    print(f'{month_name}: ${month_mrr}')"
   ]
  }
 ],
 "metadata": {
  "kernelspec": {
   "display_name": "Python 3 (ipykernel)",
   "language": "python",
   "name": "python3"
  },
  "language_info": {
   "codemirror_mode": {
    "name": "ipython",
    "version": 3
   },
   "file_extension": ".py",
   "mimetype": "text/x-python",
   "name": "python",
   "nbconvert_exporter": "python",
   "pygments_lexer": "ipython3",
   "version": "3.10.10"
  }
 },
 "nbformat": 4,
 "nbformat_minor": 5
}
